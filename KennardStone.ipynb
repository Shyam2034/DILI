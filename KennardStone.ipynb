{
 "cells": [
  {
   "cell_type": "code",
   "execution_count": 1,
   "metadata": {},
   "outputs": [
    {
     "data": {
      "text/plain": [
       "(955, 2010)"
      ]
     },
     "execution_count": 1,
     "metadata": {},
     "output_type": "execute_result"
    }
   ],
   "source": [
    "import numpy as np\n",
    "import pandas as pd\n",
    "from scipy.spatial.distance import cdist\n",
    "from sklearn.preprocessing import MinMaxScaler\n",
    "import pandas as pd\n",
    "df = pd.read_excel (r\"D:\\work\\Tasks\\Data_13062022\\955\\FinalData_Train_Test\\FinalDataArrange.xlsx\",0, header=0)\n",
    "df.shape"
   ]
  },
  {
   "cell_type": "code",
   "execution_count": 2,
   "metadata": {},
   "outputs": [
    {
     "data": {
      "text/plain": [
       "(955, 2010)"
      ]
     },
     "execution_count": 2,
     "metadata": {},
     "output_type": "execute_result"
    }
   ],
   "source": [
    "data = df.values\n",
    "data.shape"
   ]
  },
  {
   "cell_type": "code",
   "execution_count": 3,
   "metadata": {},
   "outputs": [
    {
     "name": "stdout",
     "output_type": "stream",
     "text": [
      "(955, 2008) (955,)\n"
     ]
    }
   ],
   "source": [
    "X, y = data[:,1:2009], data[:, -1]\n",
    "print(X.shape, y.shape)"
   ]
  },
  {
   "cell_type": "code",
   "execution_count": 4,
   "metadata": {},
   "outputs": [],
   "source": [
    "def KS(X,y,train_size):\n",
    "    \n",
    "    #Normalize the features using MinMaxScaler\n",
    "   # scaler = MinMaxScaler()\n",
    "    #X_norm = scaler.fit_transform(X)\n",
    "    \n",
    "    #Number of points in the training set\n",
    "    K = round(X.shape[0]*train_size)\n",
    "    if(K<2):\n",
    "        raise Exception('Training set size should be at least 2')\n",
    "        \n",
    "    #Find two most separated points\n",
    "    pairwise_distance = cdist(X,X,metric='jaccard')\n",
    "    most_separated_points = np.unravel_index(np.argmax(pairwise_distance), pairwise_distance.shape)\n",
    "    trainingset_indices = [most_separated_points[0], most_separated_points[1]]\n",
    "    trainingset_size = len(trainingset_indices)\n",
    "    while(trainingset_size < K):\n",
    "        selection_indices = [i for i in range(X.shape[0]) if i not in trainingset_indices]\n",
    "        selection_distances = pairwise_distance[np.ix_(selection_indices, trainingset_indices)]\n",
    "        separation_distances = selection_distances.min(axis=1)\n",
    "        trainingset_indices.append(selection_indices[np.argmax(separation_distances)])\n",
    "        trainingset_size = len(trainingset_indices)\n",
    "        \n",
    "    testset_indices = [i for i in range(X.shape[0]) if i not in trainingset_indices]\n",
    "    \n",
    "    return(trainingset_indices, testset_indices)"
   ]
  },
  {
   "cell_type": "code",
   "execution_count": 3,
   "metadata": {},
   "outputs": [],
   "source": [
    "def SPXY(X,y,train_size):\n",
    "    #Normalize the features using MinMaxScaler\n",
    "    #scaler_X = MinMaxScaler()\n",
    "    #scaler_y = MinMaxScaler()\n",
    "    #X_norm = scaler_X.fit_transform(X)\n",
    "    #Normalize the responses using MinMaxScaler\n",
    "    #Reshape y if y is 1-dimensional\n",
    "    if(y.ndim == 1):\n",
    "        y=y.reshape(-1,1)\n",
    "    #y_norm = scaler_y.fit_transform(y)\n",
    "    \n",
    "    #Number of points in training set\n",
    "    K = round(X.shape[0]*train_size)\n",
    "    if(K<2):\n",
    "        raise Exception('Training set size should be at least 2')\n",
    "    #Find two most separated points\n",
    "    pairwise_distance_X = cdist(X,X,metric='jaccard')\n",
    "    pairwise_distance_X = pairwise_distance_X/pairwise_distance_X.max()\n",
    "    pairwise_distance_y = cdist(y,y,metric='jaccard')\n",
    "    pairwise_distance_y = pairwise_distance_y/pairwise_distance_y.max()\n",
    "    pairwise_distance = pairwise_distance_X + pairwise_distance_y\n",
    "    most_separated_points = np.unravel_index(np.argmax(pairwise_distance), pairwise_distance.shape)\n",
    "    trainingset_indices = [most_separated_points[0], most_separated_points[1]]\n",
    "    trainingset_size = len(trainingset_indices)\n",
    "    while(trainingset_size < K):\n",
    "        selection_indices = [i for i in range(X.shape[0]) if i not in trainingset_indices]\n",
    "        selection_distances = pairwise_distance[np.ix_(selection_indices, trainingset_indices)]\n",
    "        separation_distances = selection_distances.min(axis=1)\n",
    "        trainingset_indices.append(selection_indices[np.argmax(separation_distances)])\n",
    "        trainingset_size = len(trainingset_indices)\n",
    "        \n",
    "    testset_indices = [i for i in range(X.shape[0]) if i not in trainingset_indices]\n",
    "    \n",
    "    return(trainingset_indices, testset_indices)"
   ]
  },
  {
   "cell_type": "code",
   "execution_count": 5,
   "metadata": {},
   "outputs": [],
   "source": [
    "trainingset_indices,testset_indices = KS(X,y,0.75)"
   ]
  },
  {
   "cell_type": "code",
   "execution_count": 7,
   "metadata": {},
   "outputs": [
    {
     "data": {
      "text/plain": [
       "239"
      ]
     },
     "execution_count": 7,
     "metadata": {},
     "output_type": "execute_result"
    }
   ],
   "source": [
    "len(testset_indices)"
   ]
  },
  {
   "cell_type": "code",
   "execution_count": 8,
   "metadata": {},
   "outputs": [],
   "source": [
    "X_train_df=df.iloc[trainingset_indices]\n",
    "X_test_df=df.iloc[testset_indices]"
   ]
  },
  {
   "cell_type": "code",
   "execution_count": null,
   "metadata": {},
   "outputs": [],
   "source": [
    "X_train_df.to_excel(\"D:/work/Tasks/Data_13062022/955/FinalData_Train_Test/KS/trainSet_KS.xlsx\",sheet_name='train')\n",
    "X_test_df.to_excel(\"D:/work/Tasks/Data_13062022/955/FinalData_Train_Test/KS/testSet_KS.xlsx\",sheet_name='test')"
   ]
  },
  {
   "cell_type": "code",
   "execution_count": null,
   "metadata": {},
   "outputs": [],
   "source": []
  }
 ],
 "metadata": {
  "kernelspec": {
   "display_name": "Python 3",
   "language": "python",
   "name": "python3"
  },
  "language_info": {
   "codemirror_mode": {
    "name": "ipython",
    "version": 3
   },
   "file_extension": ".py",
   "mimetype": "text/x-python",
   "name": "python",
   "nbconvert_exporter": "python",
   "pygments_lexer": "ipython3",
   "version": "3.8.5"
  }
 },
 "nbformat": 4,
 "nbformat_minor": 4
}
